{
 "cells": [
  {
   "cell_type": "markdown",
   "metadata": {},
   "source": [
    "# Smart Agricultural Bird Pest Control: Utilizing Computer Vision for Pest Management\n",
    "\n",
    "## Abstract\n",
    "This project focuses on developing a smart bird detection and repellent system aimed at protecting agricultural fields from bird-related crop damage. By leveraging computer vision and sound-based repellent mechanisms, the system will detect birds and trigger distress calls or ultrasonic sounds to scare them away. The solution is designed to be cost-effective, environmentally friendly, and sustainable, reducing the reliance on harmful methods like chemicals or physical barriers. The project begins by collecting a large dataset of bird images using web scraping techniques, which will be used to train the detection model. The project will then evolve to involve the integration of IoT systems for real-time monitoring and automated responses using Raspberry Pi.\n",
    "\n",
    "## Table of Contents\n",
    "1. [Overview](#overview)\n",
    "2. [Data Sources](#data-sources)\n",
    "3. [Importing Libraries](#importing-libraries)\n",
    "4. [Data Collection](#data-collection)\n",
    "5. [Exploratory Data Analysis (EDA)](#exploratory-data-analysis-eda)\n",
    "6. [Data Preprocessing](#data-preprocessing)\n",
    "7. [Model Development](#model-development)\n",
    "8. [Results and Evaluation](#results-and-evaluation)\n",
    "9. [Conclusion and Next Steps](#conclusion-and-next-steps)\n",
    "10. [References](#references)\n",
    "\n",
    "## Overview\n",
    "\n",
    "### Background Information\n",
    "\n",
    "Birds are an integral part of ecosystems worldwide, contributing to pollination, seed dispersal, and pest control. However, certain species can become pests, especially in agricultural settings. In Kenya and other regions of Africa, the invasion of specific bird species, such as the red-billed quelea, poses a significant threat to crop yields. The 2023 invasion of quelea birds in Kenya illustrates the severity of this issue, with farmers facing potential losses of up to 60 tonnes of grain. This problem is worsened by ongoing drought conditions in the Horn of Africa, which have driven these birds to invade cultivated fields in search of food.\n",
    "\n",
    "The Food and Agricultural Organization (FAO) estimates that such crop losses amount to $50 million annually across sub-Saharan Africa, affecting food security and livelihoods. In response to this crisis, governments have often resorted to using toxic pesticides like fenthion for eradication. While these chemicals aim to protect crops, they also pose serious environmental and health risks, particularly to non-target wildlife and endangered species. The rapid reproductive capacity of birds, along with their significant daily grain consumption, highlights the urgency of finding sustainable and effective solutions to this persistent agricultural challenge.\n",
    "\n",
    "### Problem Statement\n",
    "Bird-related crop damage significantly impacts agricultural productivity and food security in Kenya and beyond. The reliance on harmful pesticides to control avian pests raises environmental and health concerns, necessitating a more sustainable approach. This project seeks to develop a smart bird detection and repellent system that leverages computer vision and sound-based mechanisms to provide an eco-friendly alternative to pesticides.\n",
    "\n",
    "### Proposed Solution\n",
    "The proposed solution involves creating an intelligent bird detection system that will identify pest birds and trigger distress calls or ultrasonic sounds to deter them from agricultural fields. By integrating computer vision technology with sound-based repellent mechanisms, this system aims to protect crops effectively while minimizing ecological disruption. The initial phase will involve collecting a comprehensive dataset of bird images through web scraping to train the detection model. Future developments will incorporate IoT systems for real-time monitoring and automated responses, empowering farmers to safeguard their crops sustainably.\n",
    "\n",
    "### Objectives\n",
    "- Develop a comprehensive dataset of bird images to train the detection model.\n",
    "- Create a computer vision-based bird detection system that accurately identifies avian pests in agricultural settings.\n",
    "- Integrate sound-based deterrents to provide a non-invasive repellent mechanism.\n",
    "- Implement IoT solutions for real-time monitoring and automated responses to bird invasions.\n",
    "\n",
    "The following sections will detail the data sources, methods, and results of this project, highlighting the significance of technology in modern pest control and its potential impact on agricultural sustainability.\n",
    "\n",
    "## Data Sources\n",
    "\n",
    "The projectutilised data from various sources which was collected using various methods such as web scraping.\n",
    "\n",
    "[African Bird Club](https://www.africanbirdclub.org/)\n",
    "\n",
    "[HuggingFace](https://huggingface.co/datasets/yashikota/birds-525-species-image-classification)\n",
    "\n",
    "## Importing Libraries\n",
    "\n",
    "Below are all the libraries that shall be used for this project."
   ]
  },
  {
   "cell_type": "code",
   "execution_count": 1,
   "metadata": {},
   "outputs": [],
   "source": [
    "from bs4 import BeautifulSoup\n",
    "import requests\n",
    "import time\n",
    "\n",
    "import pandas as pd\n",
    "\n",
    "import shutil\n",
    "import os\n",
    "\n",
    "from datasets import load_dataset, concatenate_datasets"
   ]
  },
  {
   "cell_type": "markdown",
   "metadata": {},
   "source": [
    "## Data Collection\n",
    "\n",
    "### Web Scraping\n",
    "#### 1. African Bird Club\n",
    "The first data collected was from [African Bird Club](https://www.africanbirdclub.org/).\n",
    "\n",
    "The first thing I did was set the links to the [website](https://www.africanbirdclub.org/) that we would be accessing information from. I separated the two links to keep the code clean and flexible since I shall be collecting information from different pages. \n",
    "- The `base_url` holds the main address of the site and serves as the foundation for any additional links on the site\n",
    "- `species_info_url` contains the path to the page with the kkenyan bird species information. \n",
    "\n",
    "This approach makes it easier to update or reuse parts of the URL later on if needed."
   ]
  },
  {
   "cell_type": "code",
   "execution_count": 2,
   "metadata": {},
   "outputs": [],
   "source": [
    "# Set the links to the pages to retrieve information from\n",
    "abc_base_url = 'https://www.africanbirdclub.org'\n",
    "abc_species_url = f'{abc_base_url}/afbid/search/category/-/-/-'"
   ]
  },
  {
   "cell_type": "markdown",
   "metadata": {},
   "source": [
    "When scraping data from websites, it’s important to identify your request as coming from a legitimate source, such as a web browser rather than a bot or scraper, so as to allow one to retrieve the necessary data smoothly. Websites can block requests if they think the traffic isn’t from a real user. To avoid this, we need to set headers that make the requests look like they're coming from a browser. \n",
    "\n",
    "I set the headers to include a `User-Agent` (more information about `User-Agent` in [User-Agent Documentation](https://pypi.org/project/user-agents/)), which is a string used by web browsers to identify themselves when making requests to websites. By using this, we ensure that the website allows our code to access the information without blocking it. In this case, I used a User-Agent that mimics a standard Chrome browser on Windows.\n",
    "\n",
    "To understand more about why headers are important you can read [this article.](https://www.zenrows.com/blog/python-requests-user-agent#what-is)"
   ]
  },
  {
   "cell_type": "code",
   "execution_count": 3,
   "metadata": {},
   "outputs": [],
   "source": [
    "# Set headers with a User-Agent to allow access\n",
    "headers = {\n",
    "    'User-Agent': 'Mozilla/5.0 (Windows NT 10.0; Win64; x64) AppleWebKit/537.36 (KHTML, like Gecko) Chrome/92.0.4515.159 Safari/537.36'\n",
    "}"
   ]
  },
  {
   "cell_type": "markdown",
   "metadata": {},
   "source": [
    "After setting the header, I sent a request using the `requests.get` method, which sends a GET request to the `species_info_url`, containing the specific endpoint for the bird species information. I also include the headers  defined earlier to ensure the request is accepted. You can find more details about the requests.get method in the [Requests Documentation](https://pypi.org/project/requests/).\n",
    "\n",
    "After sending the request, I checked the status code of the response to determine if the request was successful. A status code of 200 indicates that the request was successful and the page has been successfully retrieved. If a different status code is recieved, a message to inform of the failure is printed, including the specific status code received. This helps in easier identifying and troubleshooting any issues with the request.\n",
    "\n",
    "If the request is successful, the HTML content of the response is parsed using BeautifulSoup. BeautifulSoup is a powerful library for parsing HTML and XML documents, as detailed in the [documentation](https://www.crummy.com/software/BeautifulSoup/bs4/doc/). By passing the content of the response and specifying the parser ('html.parser'), a soup object is created, which allows for easy navigation and extraction of data from the HTML structure of the page.\n",
    "\n",
    "This step is crucial, as it lays the foundation for extracting the necessary information about the bird species from the website."
   ]
  },
  {
   "cell_type": "code",
   "execution_count": 4,
   "metadata": {},
   "outputs": [],
   "source": [
    "# Scrape the species list page\n",
    "response_info = requests.get(abc_species_url, headers=headers)\n",
    "if response_info.status_code != 200:\n",
    "    print(f\"Failed to retrieve species list page, status code: {response_info.status_code}\")\n",
    "else:\n",
    "    soup_info = BeautifulSoup(response_info.content, 'html.parser')"
   ]
  },
  {
   "cell_type": "markdown",
   "metadata": {},
   "source": [
    "In the next step, the HTML structure of the page is assessed. It can be noted that the structure is such that the bird species are arranged in a list contained in the class`panel-inner`. \n",
    "\n",
    "To know the number of species on the web page, whose images we will be using:"
   ]
  },
  {
   "cell_type": "code",
   "execution_count": 5,
   "metadata": {},
   "outputs": [
    {
     "name": "stdout",
     "output_type": "stream",
     "text": [
      "Number of species: 2393\n"
     ]
    }
   ],
   "source": [
    "# Find all the species elements\n",
    "species_elements = soup_info.find_all(\"li\")\n",
    "\n",
    "# Count the number of species\n",
    "species_count = len(species_elements)\n",
    "\n",
    "print(f\"Number of species: {species_count}\")"
   ]
  },
  {
   "cell_type": "code",
   "execution_count": 6,
   "metadata": {},
   "outputs": [],
   "source": [
    "# Find the div and ul containing the species list\n",
    "species_div = soup_info.find('div', class_='panel-inner')  # Find the div with class \"panel-inner\"\n",
    "species_list = species_div.find('ul', class_='type')  # Find the ul with class \"type\""
   ]
  },
  {
   "cell_type": "code",
   "execution_count": 7,
   "metadata": {},
   "outputs": [],
   "source": [
    " # Find all species items (li elements)\n",
    "species_items = species_list.find_all('li')\n",
    "\n",
    "# Extract all species names and common names\n",
    "abc_birds = []  # List to store tuples of (img_link, species_name, common_name)\n",
    "\n",
    "for species_item in species_items:\n",
    "    # Get the species info\n",
    "    img_link = species_item.find('a')['href']  # Get the link from the <a> tag\n",
    "    scientific_name = species_item.find('h5').text.strip()  # Get the species name\n",
    "    common_name = species_item.find('span').text.strip()  # Get the common name\n",
    "    \n",
    "    # Store the species and common names in the list\n",
    "    abc_birds.append((img_link, scientific_name, common_name))"
   ]
  },
  {
   "cell_type": "code",
   "execution_count": 8,
   "metadata": {},
   "outputs": [
    {
     "name": "stdout",
     "output_type": "stream",
     "text": [
      "Total number of species extracted: 2369\n",
      "Sample of extracted species (Image Link, Scientific Name, Common Name):\n",
      "('/afbid/search/browse/species/290', 'Accipiter henstii (4)', 'Henst’s Goshawk')\n",
      "('/afbid/search/browse/species/285', 'Accipiter madagascariensis (5)', 'Madagascar Sparrowhawk')\n",
      "('/afbid/search/browse/species/286', 'Accipiter nisus (6)', 'Eurasian Sparrowhawk')\n",
      "('/afbid/search/browse/species/284', 'Accipiter ovampensis (8)', 'Ovambo Sparrowhawk')\n",
      "('/afbid/search/browse/species/287', 'Accipiter rufiventris (4)', 'Rufous-breasted Sparrowhawk')\n"
     ]
    }
   ],
   "source": [
    "# Print the total number of species extracted\n",
    "print(f\"Total number of species extracted: {len(abc_birds)}\")\n",
    "\n",
    "# Print the first 5 species as a sample\n",
    "print(\"Sample of extracted species (Image Link, Scientific Name, Common Name):\")\n",
    "for bird in abc_birds[:5]:  # Limit to the first 5 species\n",
    "    print(bird)"
   ]
  },
  {
   "cell_type": "code",
   "execution_count": 9,
   "metadata": {},
   "outputs": [
    {
     "data": {
      "text/html": [
       "<div>\n",
       "<style scoped>\n",
       "    .dataframe tbody tr th:only-of-type {\n",
       "        vertical-align: middle;\n",
       "    }\n",
       "\n",
       "    .dataframe tbody tr th {\n",
       "        vertical-align: top;\n",
       "    }\n",
       "\n",
       "    .dataframe thead th {\n",
       "        text-align: right;\n",
       "    }\n",
       "</style>\n",
       "<table border=\"1\" class=\"dataframe\">\n",
       "  <thead>\n",
       "    <tr style=\"text-align: right;\">\n",
       "      <th></th>\n",
       "      <th>Image_Link</th>\n",
       "      <th>Scientific_Name</th>\n",
       "      <th>Common_Name</th>\n",
       "    </tr>\n",
       "  </thead>\n",
       "  <tbody>\n",
       "    <tr>\n",
       "      <th>0</th>\n",
       "      <td>/afbid/search/browse/species/290</td>\n",
       "      <td>Accipiter henstii (4)</td>\n",
       "      <td>Henst’s Goshawk</td>\n",
       "    </tr>\n",
       "    <tr>\n",
       "      <th>1</th>\n",
       "      <td>/afbid/search/browse/species/285</td>\n",
       "      <td>Accipiter madagascariensis (5)</td>\n",
       "      <td>Madagascar Sparrowhawk</td>\n",
       "    </tr>\n",
       "    <tr>\n",
       "      <th>2</th>\n",
       "      <td>/afbid/search/browse/species/286</td>\n",
       "      <td>Accipiter nisus (6)</td>\n",
       "      <td>Eurasian Sparrowhawk</td>\n",
       "    </tr>\n",
       "    <tr>\n",
       "      <th>3</th>\n",
       "      <td>/afbid/search/browse/species/284</td>\n",
       "      <td>Accipiter ovampensis (8)</td>\n",
       "      <td>Ovambo Sparrowhawk</td>\n",
       "    </tr>\n",
       "    <tr>\n",
       "      <th>4</th>\n",
       "      <td>/afbid/search/browse/species/287</td>\n",
       "      <td>Accipiter rufiventris (4)</td>\n",
       "      <td>Rufous-breasted Sparrowhawk</td>\n",
       "    </tr>\n",
       "  </tbody>\n",
       "</table>\n",
       "</div>"
      ],
      "text/plain": [
       "                         Image_Link                 Scientific_Name  \\\n",
       "0  /afbid/search/browse/species/290           Accipiter henstii (4)   \n",
       "1  /afbid/search/browse/species/285  Accipiter madagascariensis (5)   \n",
       "2  /afbid/search/browse/species/286             Accipiter nisus (6)   \n",
       "3  /afbid/search/browse/species/284        Accipiter ovampensis (8)   \n",
       "4  /afbid/search/browse/species/287       Accipiter rufiventris (4)   \n",
       "\n",
       "                   Common_Name  \n",
       "0              Henst’s Goshawk  \n",
       "1       Madagascar Sparrowhawk  \n",
       "2         Eurasian Sparrowhawk  \n",
       "3           Ovambo Sparrowhawk  \n",
       "4  Rufous-breasted Sparrowhawk  "
      ]
     },
     "execution_count": 9,
     "metadata": {},
     "output_type": "execute_result"
    }
   ],
   "source": [
    "species_info_df = pd.DataFrame(abc_birds, columns=['Image_Link', 'Scientific_Name', 'Common_Name'])\n",
    "species_info_df.head()"
   ]
  },
  {
   "cell_type": "code",
   "execution_count": 10,
   "metadata": {},
   "outputs": [],
   "source": [
    "species_images = []\n",
    "\n",
    "for _, row in species_info_df.iterrows():\n",
    "    # Construct the full URL for the species page\n",
    "    species_img_url = f\"{abc_base_url}{row['Image_Link']}\"\n",
    "    common_name = row['Common_Name']\n",
    "    \n",
    "    # Fetch the species page\n",
    "    response = requests.get(species_img_url, headers=headers, timeout=15)\n",
    "    if response.status_code != 200:\n",
    "        print(f\"Failed to retrieve species page for {common_name}, status code: {response.status_code}\")\n",
    "        continue  # Skip to the next species\n",
    "    \n",
    "    # Parse the species page\n",
    "    soup = BeautifulSoup(response.content, 'html.parser')\n",
    "    \n",
    "    # Find the image list\n",
    "    image_list = soup.find('ul', class_='row image-list')\n",
    "    if not image_list:\n",
    "        continue  # Skip if no images are found\n",
    "    \n",
    "    # Extract image URLs\n",
    "    images = image_list.find_all('img')\n",
    "    for img in images:\n",
    "        img_src = img.attrs['src']  # Extract the `src` attribute\n",
    "        \n",
    "        # Append the data to the results list\n",
    "        species_images.append({\n",
    "            \"Common_Name\": common_name,\n",
    "            \"Image\": img_src\n",
    "        })"
   ]
  },
  {
   "cell_type": "code",
   "execution_count": 11,
   "metadata": {},
   "outputs": [
    {
     "data": {
      "text/html": [
       "<div>\n",
       "<style scoped>\n",
       "    .dataframe tbody tr th:only-of-type {\n",
       "        vertical-align: middle;\n",
       "    }\n",
       "\n",
       "    .dataframe tbody tr th {\n",
       "        vertical-align: top;\n",
       "    }\n",
       "\n",
       "    .dataframe thead th {\n",
       "        text-align: right;\n",
       "    }\n",
       "</style>\n",
       "<table border=\"1\" class=\"dataframe\">\n",
       "  <thead>\n",
       "    <tr style=\"text-align: right;\">\n",
       "      <th></th>\n",
       "      <th>Common_Name</th>\n",
       "      <th>Image</th>\n",
       "    </tr>\n",
       "  </thead>\n",
       "  <tbody>\n",
       "    <tr>\n",
       "      <th>0</th>\n",
       "      <td>Henst’s Goshawk</td>\n",
       "      <td>/afbid/public/imgdata/photos/626/6261419077214...</td>\n",
       "    </tr>\n",
       "    <tr>\n",
       "      <th>1</th>\n",
       "      <td>Henst’s Goshawk</td>\n",
       "      <td>/afbid/public/imgdata/photos/451/4511314128952...</td>\n",
       "    </tr>\n",
       "    <tr>\n",
       "      <th>2</th>\n",
       "      <td>Henst’s Goshawk</td>\n",
       "      <td>/afbid/public/imgdata/photos/260/2601178351348...</td>\n",
       "    </tr>\n",
       "    <tr>\n",
       "      <th>3</th>\n",
       "      <td>Henst’s Goshawk</td>\n",
       "      <td>/afbid/public/imgdata/photos/23/231122943023.jpg</td>\n",
       "    </tr>\n",
       "    <tr>\n",
       "      <th>4</th>\n",
       "      <td>Madagascar Sparrowhawk</td>\n",
       "      <td>/afbid/public/imgdata/photos/1937/193716001472...</td>\n",
       "    </tr>\n",
       "  </tbody>\n",
       "</table>\n",
       "</div>"
      ],
      "text/plain": [
       "              Common_Name                                              Image\n",
       "0         Henst’s Goshawk  /afbid/public/imgdata/photos/626/6261419077214...\n",
       "1         Henst’s Goshawk  /afbid/public/imgdata/photos/451/4511314128952...\n",
       "2         Henst’s Goshawk  /afbid/public/imgdata/photos/260/2601178351348...\n",
       "3         Henst’s Goshawk   /afbid/public/imgdata/photos/23/231122943023.jpg\n",
       "4  Madagascar Sparrowhawk  /afbid/public/imgdata/photos/1937/193716001472..."
      ]
     },
     "execution_count": 11,
     "metadata": {},
     "output_type": "execute_result"
    }
   ],
   "source": [
    "# Convert the results to a DataFrame\n",
    "abc_birds_df = pd.DataFrame(species_images)\n",
    "\n",
    "# Display the first few rows\n",
    "abc_birds_df.head()"
   ]
  },
  {
   "cell_type": "code",
   "execution_count": 12,
   "metadata": {},
   "outputs": [
    {
     "name": "stdout",
     "output_type": "stream",
     "text": [
      "<class 'pandas.core.frame.DataFrame'>\n",
      "RangeIndex: 26011 entries, 0 to 26010\n",
      "Data columns (total 2 columns):\n",
      " #   Column       Non-Null Count  Dtype \n",
      "---  ------       --------------  ----- \n",
      " 0   Common_Name  26011 non-null  object\n",
      " 1   Image        26011 non-null  object\n",
      "dtypes: object(2)\n",
      "memory usage: 406.5+ KB\n"
     ]
    }
   ],
   "source": [
    "abc_birds_df.info()"
   ]
  },
  {
   "cell_type": "code",
   "execution_count": 13,
   "metadata": {},
   "outputs": [],
   "source": [
    "from tqdm import tqdm\n",
    "\n",
    "# Function to clean species names (to be used as folder names)\n",
    "def clean_species_name(name):\n",
    "    return name.replace(\" \", \"_\").replace(\"'\", \"\").replace(\"-\", \"_\")\n",
    "\n",
    "# Function to download images in batches\n",
    "def download_images_in_batches(df, start_index=0, end_index=None, batch_size=20, output_dir=\"ABC_Bird_Images\"):\n",
    "    # Create base directory for storing images\n",
    "    os.makedirs(output_dir, exist_ok=True)\n",
    "\n",
    "    # Set the end_index to the last index of the dataframe\n",
    "    if end_index is None:\n",
    "        end_index = len(df)\n",
    "\n",
    "    # Loop over the specified range of species in batches\n",
    "    for i in tqdm(range(start_index, end_index, batch_size), desc=\"Downloading Batches\", unit=\"batch\"):\n",
    "        # Process each batch\n",
    "        batch_df = df.iloc[i:i+batch_size]\n",
    "        \n",
    "        for _, row in batch_df.iterrows():\n",
    "            species_name = clean_species_name(row[\"Common_Name\"])  # Clean the species name for folder\n",
    "            image_url = row[\"Image\"]  # URL to the image\n",
    "            \n",
    "            # Create species folder if it does not exist\n",
    "            species_folder = os.path.join(output_dir, species_name)\n",
    "            os.makedirs(species_folder, exist_ok=True)\n",
    "\n",
    "            # Downloading the images\n",
    "            response = requests.get(image_url, stream=True, timeout=10)\n",
    "            if response.status_code == 200:\n",
    "                image_filename = f\"{species_name}_{i}.jpg\"  # Use index in the filename\n",
    "                image_path = os.path.join(species_folder, image_filename)\n",
    "\n",
    "                with open(image_path, \"wb\") as file:\n",
    "                    shutil.copyfileobj(response.raw, file)\n",
    "                print(f\"Downloaded: {image_filename}\")\n",
    "            else:\n",
    "                print(f\"Failed to download {image_url}: {response.status_code}\")\n",
    "            \n",
    "        # Add a slight delay to avoid overwhelming the server\n",
    "        time.sleep(1)\n",
    "\n",
    "    print(\"Image download complete!\")"
   ]
  },
  {
   "cell_type": "code",
   "execution_count": null,
   "metadata": {},
   "outputs": [],
   "source": []
  }
 ],
 "metadata": {
  "kernelspec": {
   "display_name": "learn-env",
   "language": "python",
   "name": "python3"
  },
  "language_info": {
   "codemirror_mode": {
    "name": "ipython",
    "version": 3
   },
   "file_extension": ".py",
   "mimetype": "text/x-python",
   "name": "python",
   "nbconvert_exporter": "python",
   "pygments_lexer": "ipython3",
   "version": "3.8.5"
  }
 },
 "nbformat": 4,
 "nbformat_minor": 2
}
